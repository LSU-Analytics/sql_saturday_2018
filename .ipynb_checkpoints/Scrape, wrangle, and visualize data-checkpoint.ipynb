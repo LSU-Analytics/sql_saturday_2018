{
 "cells": [
  {
   "cell_type": "markdown",
   "metadata": {},
   "source": [
    "# Pandas: scrape, wrangle, and visualize data"
   ]
  },
  {
   "cell_type": "markdown",
   "metadata": {},
   "source": [
    "For this module, we will use the Pandas package along with several other popular Python packages to scrape html data, wrangle it using a dataframe, and then conduct some visual analysis."
   ]
  },
  {
   "cell_type": "markdown",
   "metadata": {},
   "source": [
    "To get started, you will need a Python installation (3.6.3 or later is recommended).\n",
    "```\n",
    "$ python --version\n",
    "3.6.3\n",
    "```"
   ]
  },
  {
   "cell_type": "markdown",
   "metadata": {},
   "source": [
    "Clone or download the repository https://github.com/LSU-Analytics/sql_saturday_2018.git\n",
    "```\n",
    "$ git clone https://github.com/LSU-Analytics/sql_saturday_2018.git\n",
    "```"
   ]
  },
  {
   "cell_type": "markdown",
   "metadata": {},
   "source": [
    "Run this command to install the packages: \n",
    "```\n",
    "$ pip install -r requirements.txt\n",
    "```\n",
    "\n",
    "Or you can install the packages individually.\n",
    "```\n",
    "$ pip install pandas\n",
    "$ pip install beautifulsoup4\n",
    "$ pip install jupyter\n",
    "$ pip install matplotlib\n",
    "$ pip install numpy\n",
    "$ pip install requests\n",
    "$ pip install seaborn\n",
    "```"
   ]
  },
  {
   "cell_type": "markdown",
   "metadata": {},
   "source": [
    "## Jupyter Notebook\n",
    "Using Jupyter Notebook, you should start by importing the necessary modules (pandas, numpy, matplotlib.pyplot, seaborn). If you don't have Jupyter Notebook installed, you can find it here: http://jupyter.org/install"
   ]
  },
  {
   "cell_type": "code",
   "execution_count": null,
   "metadata": {},
   "outputs": [],
   "source": [
    "# import the required packages\n",
    "import pandas as pd\n",
    "import numpy as np\n",
    "import matplotlib.pyplot as plt\n",
    "import seaborn as sns\n",
    "from urllib.request import urlopen\n",
    "from bs4 import BeautifulSoup\n",
    "\n",
    "%matplotlib inline\n"
   ]
  },
  {
   "cell_type": "markdown",
   "metadata": {},
   "source": [
    "## Get some data\n",
    "Where do we get data?  That's easy...data is everywhere.  Pandas makes it easy to import data from multiple file types (csv, xlsx, txt, sql), pull from APIs (usually as JSON), or obtain raw HTML.  For this example, we will use HTML since it usually requires a bit more cleaning."
   ]
  },
  {
   "cell_type": "code",
   "execution_count": 71,
   "metadata": {},
   "outputs": [],
   "source": [
    "url = \"http://www.hubertiming.com/results/2017GPTR10K\"\n",
    "html = urlopen(url)"
   ]
  },
  {
   "cell_type": "markdown",
   "metadata": {},
   "source": [
    "Next step is to create a Beautiful Soup object from the html. This is done by passing the html to the BeautifulSoup() function. The Beautiful Soup package is used to parse the html. The second argument 'lxml' is the html parser whose details you do not need to worry about at this point."
   ]
  },
  {
   "cell_type": "code",
   "execution_count": 72,
   "metadata": {},
   "outputs": [
    {
     "data": {
      "text/plain": [
       "bs4.BeautifulSoup"
      ]
     },
     "execution_count": 72,
     "metadata": {},
     "output_type": "execute_result"
    }
   ],
   "source": [
    "gumbo = BeautifulSoup(html, 'lxml')\n",
    "type(gumbo)"
   ]
  },
  {
   "cell_type": "markdown",
   "metadata": {},
   "source": [
    "The soup object allows you to extract interesting information about the website you're scraping such as getting the title of the page as shown below."
   ]
  },
  {
   "cell_type": "code",
   "execution_count": 73,
   "metadata": {},
   "outputs": [
    {
     "name": "stdout",
     "output_type": "stream",
     "text": [
      "<title>2017 Intel Great Place to Run 10K \\ Urban Clash Games Race Results</title>\n"
     ]
    }
   ],
   "source": [
    "# Get the page title\n",
    "title = gumbo.title\n",
    "print(title)"
   ]
  },
  {
   "cell_type": "markdown",
   "metadata": {},
   "source": [
    "You can also get the text of the webpage and quickly print it out to check if it is what you expect."
   ]
  },
  {
   "cell_type": "code",
   "execution_count": 74,
   "metadata": {},
   "outputs": [],
   "source": [
    "# Print out the text\n",
    "text = gumbo.get_text()\n",
    "# print(text)"
   ]
  },
  {
   "cell_type": "markdown",
   "metadata": {},
   "source": [
    "You can use the find_all() method of on our gumbo object to extract useful html tags within the html. Examples of useful tags include < a > for hyperlinks, < table > for tables, < tr > for table rows, < th > for table headers, and < td > for table cells. The code below shows how to extract all the hyperlinks within the webpage."
   ]
  },
  {
   "cell_type": "code",
   "execution_count": 75,
   "metadata": {},
   "outputs": [
    {
     "data": {
      "text/plain": [
       "[<a class=\"btn btn-primary btn-lg\" href=\"/results/2017GPTR\" role=\"button\" style=\"margin: 0px 0px 5px 5px\">5K</a>,\n",
       " <a href=\"http://hubertiming.com/\">Huber Timing Home</a>,\n",
       " <a href=\"#individual\">Individual Results</a>,\n",
       " <a href=\"#team\">Team Results</a>,\n",
       " <a href=\"mailto:timing@hubertiming.com\">timing@hubertiming.com</a>,\n",
       " <a href=\"#tabs-1\" style=\"font-size: 18px\">Results</a>,\n",
       " <a name=\"individual\"></a>,\n",
       " <a name=\"team\"></a>,\n",
       " <a href=\"http://www.hubertiming.com/\"><img height=\"65\" src=\"/sites/all/themes/hubertiming/images/clockWithFinishSign_small.png\" width=\"50\"/>Huber Timing</a>,\n",
       " <a href=\"http://facebook.com/hubertiming/\"><img src=\"/results/FB-f-Logo__blue_50.png\"/></a>]"
      ]
     },
     "execution_count": 75,
     "metadata": {},
     "output_type": "execute_result"
    }
   ],
   "source": [
    "gumbo.find_all('a')"
   ]
  },
  {
   "cell_type": "markdown",
   "metadata": {},
   "source": [
    "As you can see from the output above, html tags sometimes come with attributes such as class, src, etc. These attributes provide additional information about html elements. You can use a little python coding to extract only the hyperlinks."
   ]
  },
  {
   "cell_type": "code",
   "execution_count": 76,
   "metadata": {},
   "outputs": [
    {
     "name": "stdout",
     "output_type": "stream",
     "text": [
      "/results/2017GPTR\n",
      "http://hubertiming.com/\n",
      "#individual\n",
      "#team\n",
      "mailto:timing@hubertiming.com\n",
      "#tabs-1\n",
      "None\n",
      "None\n",
      "http://www.hubertiming.com/\n",
      "http://facebook.com/hubertiming/\n"
     ]
    }
   ],
   "source": [
    "all_links = gumbo.find_all(\"a\")\n",
    "for link in all_links:\n",
    "    print(link.get(\"href\"))"
   ]
  },
  {
   "cell_type": "markdown",
   "metadata": {},
   "source": [
    "To print out table rows only, pass the 'tr' argument in gumbo.find_all()."
   ]
  },
  {
   "cell_type": "code",
   "execution_count": 77,
   "metadata": {},
   "outputs": [
    {
     "name": "stdout",
     "output_type": "stream",
     "text": [
      "[<tr><td>Finishers:</td><td>577</td></tr>, <tr><td>Male:</td><td>414</td></tr>, <tr><td>Female:</td><td>163</td></tr>, <tr class=\"header\">\n",
      "<th>Place</th>\n",
      "<th>Bib</th>\n",
      "<th>Name</th>\n",
      "<th>Gender</th>\n",
      "<th>City</th>\n",
      "<th>State</th>\n",
      "<th>Chip Time</th>\n",
      "<th>Chip Pace</th>\n",
      "<th>Gender Place</th>\n",
      "<th>Age Group</th>\n",
      "<th>Age Group Place</th>\n",
      "<th>Time to Start</th>\n",
      "<th>Gun Time</th>\n",
      "<th>Team</th>\n",
      "</tr>, <tr>\n",
      "<td>1</td>\n",
      "<td>814</td>\n",
      "<td>JARED WILSON</td>\n",
      "<td>M</td>\n",
      "<td>TIGARD</td>\n",
      "<td>OR</td>\n",
      "<td>00:36:21</td>\n",
      "<td>05:51</td>\n",
      "<td>1 of 414</td>\n",
      "<td>M 36-45</td>\n",
      "<td>1 of 152</td>\n",
      "<td>00:00:03</td>\n",
      "<td>00:36:24</td>\n",
      "<td></td>\n",
      "</tr>, <tr>\n",
      "<td>2</td>\n",
      "<td>573</td>\n",
      "<td>NATHAN A SUSTERSIC</td>\n",
      "<td>M</td>\n",
      "<td>PORTLAND</td>\n",
      "<td>OR</td>\n",
      "<td>00:36:42</td>\n",
      "<td>05:55</td>\n",
      "<td>2 of 414</td>\n",
      "<td>M 26-35</td>\n",
      "<td>1 of 154</td>\n",
      "<td>00:00:03</td>\n",
      "<td>00:36:45</td>\n",
      "<td>INTEL TEAM F</td>\n",
      "</tr>, <tr>\n",
      "<td>3</td>\n",
      "<td>687</td>\n",
      "<td>FRANCISCO MAYA</td>\n",
      "<td>M</td>\n",
      "<td>PORTLAND</td>\n",
      "<td>OR</td>\n",
      "<td>00:37:44</td>\n",
      "<td>06:05</td>\n",
      "<td>3 of 414</td>\n",
      "<td>M 46-55</td>\n",
      "<td>1 of 64</td>\n",
      "<td>00:00:04</td>\n",
      "<td>00:37:48</td>\n",
      "<td></td>\n",
      "</tr>, <tr>\n",
      "<td>4</td>\n",
      "<td>623</td>\n",
      "<td>PAUL MORROW</td>\n",
      "<td>M</td>\n",
      "<td>BEAVERTON</td>\n",
      "<td>OR</td>\n",
      "<td>00:38:34</td>\n",
      "<td>06:13</td>\n",
      "<td>4 of 414</td>\n",
      "<td>M 36-45</td>\n",
      "<td>2 of 152</td>\n",
      "<td>00:00:03</td>\n",
      "<td>00:38:37</td>\n",
      "<td></td>\n",
      "</tr>, <tr>\n",
      "<td>5</td>\n",
      "<td>569</td>\n",
      "<td>DEREK G OSBORNE</td>\n",
      "<td>M</td>\n",
      "<td>HILLSBORO</td>\n",
      "<td>OR</td>\n",
      "<td>00:39:21</td>\n",
      "<td>06:20</td>\n",
      "<td>5 of 414</td>\n",
      "<td>M 26-35</td>\n",
      "<td>2 of 154</td>\n",
      "<td>00:00:03</td>\n",
      "<td>00:39:24</td>\n",
      "<td>INTEL TEAM F</td>\n",
      "</tr>, <tr>\n",
      "<td>6</td>\n",
      "<td>642</td>\n",
      "<td>JONATHON TRAN</td>\n",
      "<td>M</td>\n",
      "<td>PORTLAND</td>\n",
      "<td>OR</td>\n",
      "<td>00:39:49</td>\n",
      "<td>06:25</td>\n",
      "<td>6 of 414</td>\n",
      "<td>M 18-25</td>\n",
      "<td>1 of 34</td>\n",
      "<td>00:00:06</td>\n",
      "<td>00:39:55</td>\n",
      "<td></td>\n",
      "</tr>]\n"
     ]
    }
   ],
   "source": [
    "# Print the first 10 rows for sanity check\n",
    "rows = gumbo.find_all('tr')\n",
    "print(rows[:10])"
   ]
  },
  {
   "cell_type": "markdown",
   "metadata": {},
   "source": [
    "The goal is to take data from an html table and convert it into a dataframe for easier manipulation using Python. To get there, you should get all table rows in list form first and then convert that list into a dataframe. Below is a for loop that iterates through table rows and prints out the cells of the rows."
   ]
  },
  {
   "cell_type": "code",
   "execution_count": 78,
   "metadata": {},
   "outputs": [
    {
     "name": "stdout",
     "output_type": "stream",
     "text": [
      "[<td>14TH</td>, <td>INTEL TEAM M</td>, <td>04:43:23</td>, <td>00:58:59 - DANIELLE CASILLAS</td>, <td>01:02:06 - RAMYA MERUVA</td>, <td>01:17:06 - PALLAVI J SHINDE</td>, <td>01:25:11 - NALINI MURARI</td>]\n"
     ]
    },
    {
     "data": {
      "text/plain": [
       "bs4.element.ResultSet"
      ]
     },
     "execution_count": 78,
     "metadata": {},
     "output_type": "execute_result"
    }
   ],
   "source": [
    "for row in rows:\n",
    "    row_td = row.find_all('td')\n",
    "print(row_td)\n",
    "type(row_td)"
   ]
  },
  {
   "cell_type": "markdown",
   "metadata": {},
   "source": [
    "The output shows that each row is printed with html tags embedded in each row. This is not what you want.\n",
    "\n",
    "The easiest way to remove html tags is to use Beautiful Soup, and it takes just one line of code to do this. Pass the string of interest into BeautifulSoup() and use the ```get_text()``` method to extract the text without html tags."
   ]
  },
  {
   "cell_type": "code",
   "execution_count": 79,
   "metadata": {},
   "outputs": [
    {
     "name": "stdout",
     "output_type": "stream",
     "text": [
      "[14TH, INTEL TEAM M, 04:43:23, 00:58:59 - DANIELLE CASILLAS, 01:02:06 - RAMYA MERUVA, 01:17:06 - PALLAVI J SHINDE, 01:25:11 - NALINI MURARI]\n"
     ]
    }
   ],
   "source": [
    "str_cells = str(row_td)\n",
    "cleantext = BeautifulSoup(str_cells, \"lxml\").get_text()\n",
    "print(cleantext)"
   ]
  },
  {
   "cell_type": "markdown",
   "metadata": {},
   "source": [
    "need to explain"
   ]
  },
  {
   "cell_type": "code",
   "execution_count": 80,
   "metadata": {},
   "outputs": [
    {
     "data": {
      "text/plain": [
       "list"
      ]
     },
     "execution_count": 80,
     "metadata": {},
     "output_type": "execute_result"
    }
   ],
   "source": [
    "list_rows = []\n",
    "\n",
    "for row in rows:\n",
    "    row_td = row.find_all('td')\n",
    "    str_cells = str(row_td)\n",
    "    cleantext = BeautifulSoup(str_cells, \"lxml\").get_text()\n",
    "    list_rows.append(cleantext)\n",
    "    \n",
    "type(list_rows)"
   ]
  },
  {
   "cell_type": "markdown",
   "metadata": {},
   "source": [
    "The next step is to convert the list into a dataframe and get a quick view of the first 10 rows using Pandas."
   ]
  },
  {
   "cell_type": "code",
   "execution_count": null,
   "metadata": {},
   "outputs": [],
   "source": [
    "df = pd.DataFrame(list_rows)\n",
    "df.head(10)"
   ]
  },
  {
   "cell_type": "markdown",
   "metadata": {},
   "source": [
    "## Regulators, mount up!  It's time to wrangle.\n",
    "The dataframe is not in the format we want. To clean it up, you should split the \"0\" column into multiple columns at the comma position. This is accomplished by using the str.split() method."
   ]
  },
  {
   "cell_type": "code",
   "execution_count": null,
   "metadata": {},
   "outputs": [],
   "source": [
    "df1 = df[0].str.split(',', expand=True)\n",
    "df1.head(10)"
   ]
  },
  {
   "cell_type": "markdown",
   "metadata": {},
   "source": [
    "This looks much better, but there is still work to do. The dataframe has unwanted square brackets surrounding each row. You can use the strip() method to remove the opening square bracket on column \"0.\""
   ]
  },
  {
   "cell_type": "code",
   "execution_count": null,
   "metadata": {},
   "outputs": [],
   "source": [
    "df1[0] = df1[0].str.strip('[')\n",
    "df1.head(10)"
   ]
  },
  {
   "cell_type": "markdown",
   "metadata": {},
   "source": [
    "The table is missing table headers. You can use the find_all() method to get the table headers."
   ]
  },
  {
   "cell_type": "code",
   "execution_count": null,
   "metadata": {},
   "outputs": [],
   "source": [
    "col_labels = gumbo.find_all('th')"
   ]
  },
  {
   "cell_type": "markdown",
   "metadata": {},
   "source": [
    "Once again, you can use Beautiful Soup to extract text in between html tags for table headers."
   ]
  },
  {
   "cell_type": "code",
   "execution_count": null,
   "metadata": {},
   "outputs": [],
   "source": [
    "all_header = []\n",
    "col_str = str(col_labels)\n",
    "cleantext2 = BeautifulSoup(col_str, \"lxml\").get_text()\n",
    "all_header.append(cleantext2)\n",
    "print(all_header)"
   ]
  },
  {
   "cell_type": "code",
   "execution_count": null,
   "metadata": {},
   "outputs": [],
   "source": [
    "df2 = pd.DataFrame(all_header)\n",
    "df2.head()"
   ]
  },
  {
   "cell_type": "markdown",
   "metadata": {},
   "source": [
    "As before, split column \"0\" into multiple columns at the comma position for all rows."
   ]
  },
  {
   "cell_type": "code",
   "execution_count": null,
   "metadata": {},
   "outputs": [],
   "source": [
    "df3 = df2[0].str.split(',', expand=True)\n",
    "df3.head()"
   ]
  },
  {
   "cell_type": "markdown",
   "metadata": {},
   "source": [
    "The two dataframes can be concatenated into one using the concat() method as illustrated below."
   ]
  },
  {
   "cell_type": "code",
   "execution_count": null,
   "metadata": {},
   "outputs": [],
   "source": [
    "frames = [df3, df1]\n",
    "\n",
    "df4 = pd.concat(frames)\n",
    "df4.head(10)"
   ]
  },
  {
   "cell_type": "markdown",
   "metadata": {},
   "source": [
    "Below shows how to assign the first row to be the table header."
   ]
  },
  {
   "cell_type": "code",
   "execution_count": null,
   "metadata": {},
   "outputs": [],
   "source": [
    "df5 = df4.rename(columns=df4.iloc[0])\n",
    "df5.head()"
   ]
  },
  {
   "cell_type": "markdown",
   "metadata": {},
   "source": [
    "At this point, the table is (mostly) properly formatted. For analysis, you can start by getting an overview of the data as shown below."
   ]
  },
  {
   "cell_type": "code",
   "execution_count": null,
   "metadata": {},
   "outputs": [],
   "source": [
    "df5.info()\n",
    "df5.shape"
   ]
  },
  {
   "cell_type": "markdown",
   "metadata": {},
   "source": [
    "The table has 597 rows and 14 columns. You can drop all rows with any missing values."
   ]
  },
  {
   "cell_type": "code",
   "execution_count": null,
   "metadata": {},
   "outputs": [],
   "source": [
    "df6 = df5.dropna(axis=0, how='any')\n",
    "df6.head(5)"
   ]
  },
  {
   "cell_type": "markdown",
   "metadata": {},
   "source": [
    "Also, notice how the table header is replicated as the first row in df5. It can be dropped using the following line of code."
   ]
  },
  {
   "cell_type": "code",
   "execution_count": null,
   "metadata": {},
   "outputs": [],
   "source": [
    "df7 = df6.drop(df6.index[0])\n",
    "df7.head()"
   ]
  },
  {
   "cell_type": "markdown",
   "metadata": {},
   "source": [
    "You can perform more data cleaning by renaming the '[Place' and ' Team]' columns. "
   ]
  },
  {
   "cell_type": "code",
   "execution_count": null,
   "metadata": {},
   "outputs": [],
   "source": [
    "df7.rename(columns={'[Place': 'Place'},inplace=True)\n",
    "df7.rename(columns={' Team]': 'Team'},inplace=True)\n",
    "df7['Team'] = df7['Team'].str.strip(']')\n",
    "df7.head()"
   ]
  },
  {
   "cell_type": "markdown",
   "metadata": {},
   "source": [
    "It took a while to get here, but at this point, the dataframe is in the desired format. Now you can move on to the exciting part and start plotting the data and computing interesting statistics."
   ]
  },
  {
   "cell_type": "markdown",
   "metadata": {},
   "source": [
    "## Visualization & Analysis\n",
    "The first question to answer is, what was the average finish time (in minutes) for the runners? You need to convert the column \"Chip Time\" into just minutes. One way to do this is to convert the column to a list first for manipulation."
   ]
  },
  {
   "cell_type": "code",
   "execution_count": null,
   "metadata": {},
   "outputs": [],
   "source": [
    "time_list = df7[' Chip Time'].tolist()\n",
    "\n",
    "# You can use a for loop to convert 'Chip Time' to minutes\n",
    "\n",
    "time_mins = []\n",
    "for i in time_list:\n",
    "    h, m, s = i.split(':')\n",
    "    math = (int(h) * 3600 + int(m) * 60 + int(s))/60\n",
    "    time_mins.append(math)\n",
    "# print(time_mins)"
   ]
  },
  {
   "cell_type": "markdown",
   "metadata": {},
   "source": [
    "The next step is to convert the list back into a dataframe and make a new column (\"Runner_mins\") for runner chip times expressed in just minutes."
   ]
  },
  {
   "cell_type": "code",
   "execution_count": null,
   "metadata": {},
   "outputs": [],
   "source": [
    "df7['Runner_mins'] = time_mins\n",
    "df7.head()"
   ]
  },
  {
   "cell_type": "markdown",
   "metadata": {},
   "source": [
    "The code below shows how to calculate statistics for numeric columns only in the dataframe.\n",
    "\n"
   ]
  },
  {
   "cell_type": "code",
   "execution_count": null,
   "metadata": {},
   "outputs": [],
   "source": [
    "# df7.describe(include=[np.number])\n",
    "df7.describe()"
   ]
  },
  {
   "cell_type": "markdown",
   "metadata": {},
   "source": [
    "Interestingly, the average chip time for all runners was ~60 mins. The fastest 10K runner finished in 36.35 mins, and the slowest runner finished in 101.30 minutes."
   ]
  },
  {
   "cell_type": "markdown",
   "metadata": {},
   "source": [
    "Another question to answer is: Did the runners' finish times follow a normal distribution?\n",
    "\n",
    "Below is a distribution plot of runners' chip times plotted using the seaborn library. The distribution looks almost normal."
   ]
  },
  {
   "cell_type": "code",
   "execution_count": null,
   "metadata": {},
   "outputs": [],
   "source": [
    "x = df7['Runner_mins']\n",
    "ax = sns.distplot(x, hist=True, kde=True, rug=False, color='m', bins=25, hist_kws={'edgecolor':'black'})\n",
    "plt.show()"
   ]
  },
  {
   "cell_type": "markdown",
   "metadata": {},
   "source": [
    "Are there were any performance differences between the males and females runners? Below is a distribution plot of chip times for males and females."
   ]
  },
  {
   "cell_type": "code",
   "execution_count": null,
   "metadata": {},
   "outputs": [],
   "source": [
    "f_fuko = df7.loc[df7[' Gender']==' F']['Runner_mins']\n",
    "m_fuko = df7.loc[df7[' Gender']==' M']['Runner_mins']\n",
    "sns.distplot(f_fuko, hist=True, kde=True, rug=False, hist_kws={'edgecolor':'black'}, label='Female')\n",
    "sns.distplot(m_fuko, hist=False, kde=True, rug=False, hist_kws={'edgecolor':'black'}, label='Male')\n",
    "plt.legend()"
   ]
  },
  {
   "cell_type": "markdown",
   "metadata": {},
   "source": [
    "The distribution indicates that females were slower than males on average. You can use the groupby() method to compute summary statistics for males and females separately as shown below."
   ]
  },
  {
   "cell_type": "code",
   "execution_count": null,
   "metadata": {},
   "outputs": [],
   "source": [
    "g_stats = df7.groupby(\" Gender\", as_index=True).describe()\n",
    "print(g_stats)"
   ]
  },
  {
   "cell_type": "markdown",
   "metadata": {},
   "source": [
    "## Conclusion\n",
    "In this tutorial, you performed web scraping using Python. You used the Beautiful Soup library to parse html data and convert it into a form that can be used for analysis. Using Pandas, You cleaned the data and created useful plots to reveal interesting trends using Python's matplotlib and seaborn libraries. After this tutorial, you should be able to use Python to easily scrape data from the web, apply cleaning techniques and extract useful insights from the data.\n",
    "\n",
    "If you would like to learn more about Python, take DataCamp's free Intro to Python for Data Science course. https://www.datacamp.com/courses/intro-to-python-for-data-science"
   ]
  },
  {
   "cell_type": "code",
   "execution_count": null,
   "metadata": {},
   "outputs": [],
   "source": []
  }
 ],
 "metadata": {
  "kernelspec": {
   "display_name": "Python 3",
   "language": "python",
   "name": "python3"
  },
  "language_info": {
   "codemirror_mode": {
    "name": "ipython",
    "version": 3
   },
   "file_extension": ".py",
   "mimetype": "text/x-python",
   "name": "python",
   "nbconvert_exporter": "python",
   "pygments_lexer": "ipython3",
   "version": "3.6.3"
  }
 },
 "nbformat": 4,
 "nbformat_minor": 2
}
